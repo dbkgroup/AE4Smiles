{
 "cells": [
  {
   "cell_type": "markdown",
   "metadata": {},
   "source": [
    "# Use pre-trained Model with various test sets."
   ]
  },
  {
   "cell_type": "code",
   "execution_count": 1,
   "metadata": {},
   "outputs": [
    {
     "name": "stderr",
     "output_type": "stream",
     "text": [
      "Using TensorFlow backend.\n"
     ]
    }
   ],
   "source": [
    "import pandas as pd\n",
    "import numpy as np\n",
    "import matplotlib.pyplot as plt\n",
    "from SmilesTools import smiUtil as SU\n",
    "from AE4SmilesLib import CNAE, tbHistoryPlot"
   ]
  },
  {
   "cell_type": "code",
   "execution_count": 2,
   "metadata": {},
   "outputs": [],
   "source": [
    "sm = SU()"
   ]
  },
  {
   "cell_type": "markdown",
   "metadata": {},
   "source": [
    "Keep parameters in dictionary  \n",
    "**lrep** : hidden rep size  \n",
    "**nEL** : number of conv + maxpool block  \n",
    "**reg** : activity L1 regulation factor  \n",
    "**flt** : number of conv filters per layer  \n",
    "**opt** : optimizer to use  \n",
    "**ngpu** : number of gpus to use   \n",
    "**batch** : minibatch size  \n",
    "**EPO** : number of epochs  "
   ]
  },
  {
   "cell_type": "code",
   "execution_count": 3,
   "metadata": {},
   "outputs": [],
   "source": [
    "bp = {\n",
    "    'lrep' : 145,\n",
    "    'nEL' : 1,\n",
    "    'reg' : 1.0e-9,\n",
    "    'flt' : 32,\n",
    "    'kern' : 5,\n",
    "    'opt' : 'adam',\n",
    "    'ngpu' : 1,\n",
    "    'batch' : 256,\n",
    "    'EPO' : 30\n",
    "    }\n",
    "\n",
    "bcn = CNAE(sm,**bp)"
   ]
  },
  {
   "cell_type": "markdown",
   "metadata": {},
   "source": [
    "Network weights need to be created from net of same structure; **_lrep, nEL, flt & kern_** need to be same."
   ]
  },
  {
   "cell_type": "code",
   "execution_count": 4,
   "metadata": {},
   "outputs": [],
   "source": [
    "bcn.loadw('data/test5MCNNv3Co1.hdf5')"
   ]
  },
  {
   "cell_type": "code",
   "execution_count": 5,
   "metadata": {},
   "outputs": [],
   "source": [
    "dat = pd.read_pickle('data/6MSmiles.pkl')"
   ]
  },
  {
   "cell_type": "code",
   "execution_count": 6,
   "metadata": {},
   "outputs": [
    {
     "data": {
      "text/html": [
       "<div>\n",
       "<style scoped>\n",
       "    .dataframe tbody tr th:only-of-type {\n",
       "        vertical-align: middle;\n",
       "    }\n",
       "\n",
       "    .dataframe tbody tr th {\n",
       "        vertical-align: top;\n",
       "    }\n",
       "\n",
       "    .dataframe thead th {\n",
       "        text-align: right;\n",
       "    }\n",
       "</style>\n",
       "<table border=\"1\" class=\"dataframe\">\n",
       "  <thead>\n",
       "    <tr style=\"text-align: right;\">\n",
       "      <th></th>\n",
       "      <th>Molecule</th>\n",
       "    </tr>\n",
       "  </thead>\n",
       "  <tbody>\n",
       "    <tr>\n",
       "      <th>0</th>\n",
       "      <td>O=C(Cn1nc(ccc1=O)-c1cccc2ccccc12)NC1CCCCCC1</td>\n",
       "    </tr>\n",
       "    <tr>\n",
       "      <th>1</th>\n",
       "      <td>COc1cc(cc(OC)c1OC)C(=O)NCCn1c(C)nc2ncccc2c1=O</td>\n",
       "    </tr>\n",
       "    <tr>\n",
       "      <th>2</th>\n",
       "      <td>Fc1cc(F)c(CC(=O)NCCCc2nnc3ccccn23)cc1F</td>\n",
       "    </tr>\n",
       "    <tr>\n",
       "      <th>3</th>\n",
       "      <td>Cc1nc2ccc(F)cc2c(=O)n1CC(=O)Nc1nc(cs1)-c1cccnc1</td>\n",
       "    </tr>\n",
       "    <tr>\n",
       "      <th>4</th>\n",
       "      <td>Clc1cccc(c1)N1CCN(CC1)C(=O)CCC(=O)NCc1cccnc1</td>\n",
       "    </tr>\n",
       "  </tbody>\n",
       "</table>\n",
       "</div>"
      ],
      "text/plain": [
       "                                          Molecule\n",
       "0      O=C(Cn1nc(ccc1=O)-c1cccc2ccccc12)NC1CCCCCC1\n",
       "1    COc1cc(cc(OC)c1OC)C(=O)NCCn1c(C)nc2ncccc2c1=O\n",
       "2           Fc1cc(F)c(CC(=O)NCCCc2nnc3ccccn23)cc1F\n",
       "3  Cc1nc2ccc(F)cc2c(=O)n1CC(=O)Nc1nc(cs1)-c1cccnc1\n",
       "4     Clc1cccc(c1)N1CCN(CC1)C(=O)CCC(=O)NCc1cccnc1"
      ]
     },
     "execution_count": 6,
     "metadata": {},
     "output_type": "execute_result"
    }
   ],
   "source": [
    "k = 2000\n",
    "zinctst = dat[-k:]\n",
    "zinctst = zinctst.reset_index(drop=True)\n",
    "del dat\n",
    "zinctst.head()"
   ]
  },
  {
   "cell_type": "code",
   "execution_count": 7,
   "metadata": {},
   "outputs": [],
   "source": [
    "zoh = sm.smi2OH(zinctst)"
   ]
  },
  {
   "cell_type": "code",
   "execution_count": 8,
   "metadata": {},
   "outputs": [],
   "source": [
    "dat = pd.read_csv('data/ChEMBL23_5k.csv',sep='\\t')\n",
    "dat = dat[0:k]\n",
    "ch23oh = sm.smi2OH(dat)\n",
    "\n",
    "dat = pd.read_csv('data/UNPD_5k.csv',sep='\\t')\n",
    "dat = dat[0:k]\n",
    "unpdoh = sm.smi2OH(dat)\n",
    "\n",
    "dat = pd.read_csv('data/DM_5k.csv',sep='\\t')\n",
    "dat = dat[0:k]\n",
    "dmoh = sm.smi2OH(dat)"
   ]
  },
  {
   "cell_type": "code",
   "execution_count": 9,
   "metadata": {},
   "outputs": [
    {
     "name": "stdout",
     "output_type": "stream",
     "text": [
      "Perfect: 79.85 Good: 82.25 Match: 99.08\n",
      "Perfect: 42.10 Good: 52.85 Match: 94.21\n",
      "Perfect: 32.00 Good: 45.55 Match: 90.98\n",
      "Perfect: 6.80 Good: 13.05 Match: 83.74\n"
     ]
    }
   ],
   "source": [
    "for dta in [zoh, ch23oh, dmoh, unpdoh]:\n",
    "    xp = bcn.aen.predict(dta)\n",
    "    _   = sm.getScore(dta,xp)"
   ]
  },
  {
   "cell_type": "markdown",
   "metadata": {},
   "source": [
    "### Continue training with UNPD training data."
   ]
  },
  {
   "cell_type": "code",
   "execution_count": 10,
   "metadata": {},
   "outputs": [],
   "source": [
    "dat = pd.read_csv('data/UNPD_139k.csv',sep='\\t')\n",
    "dat.drop('Name',axis=1,inplace=True)"
   ]
  },
  {
   "cell_type": "code",
   "execution_count": 11,
   "metadata": {},
   "outputs": [],
   "source": [
    "utrainoh = sm.smi2OH(dat)"
   ]
  },
  {
   "cell_type": "code",
   "execution_count": 12,
   "metadata": {},
   "outputs": [
    {
     "name": "stdout",
     "output_type": "stream",
     "text": [
      "Train on 111200 samples, validate on 27800 samples\n",
      "Epoch 1/30\n",
      "111200/111200 [==============================] - 17s 154us/step - loss: 0.0102 - acc: 0.9968 - jaccard: 0.8690 - dice_loss: 0.0493 - val_loss: 0.0114 - val_acc: 0.9970 - val_jaccard: 0.8752 - val_dice_loss: 0.0474\n",
      "Epoch 2/30\n",
      "111200/111200 [==============================] - 14s 129us/step - loss: 0.0075 - acc: 0.9975 - jaccard: 0.8865 - dice_loss: 0.0386 - val_loss: 0.0121 - val_acc: 0.9971 - val_jaccard: 0.8795 - val_dice_loss: 0.0458\n",
      "Epoch 3/30\n",
      "111200/111200 [==============================] - 14s 126us/step - loss: 0.0069 - acc: 0.9977 - jaccard: 0.8944 - dice_loss: 0.0353 - val_loss: 0.0124 - val_acc: 0.9971 - val_jaccard: 0.8821 - val_dice_loss: 0.0450\n",
      "Epoch 4/30\n",
      "111200/111200 [==============================] - 14s 125us/step - loss: 0.0062 - acc: 0.9979 - jaccard: 0.9020 - dice_loss: 0.0320 - val_loss: 0.0121 - val_acc: 0.9973 - val_jaccard: 0.8857 - val_dice_loss: 0.0433\n",
      "Epoch 5/30\n",
      "111200/111200 [==============================] - 14s 128us/step - loss: 0.0061 - acc: 0.9979 - jaccard: 0.9035 - dice_loss: 0.0314 - val_loss: 0.0122 - val_acc: 0.9973 - val_jaccard: 0.8865 - val_dice_loss: 0.0431\n",
      "Epoch 6/30\n",
      "111200/111200 [==============================] - 14s 124us/step - loss: 0.0060 - acc: 0.9980 - jaccard: 0.9052 - dice_loss: 0.0307 - val_loss: 0.0122 - val_acc: 0.9973 - val_jaccard: 0.8874 - val_dice_loss: 0.0428\n",
      "Epoch 7/30\n",
      "111200/111200 [==============================] - 14s 127us/step - loss: 0.0060 - acc: 0.9980 - jaccard: 0.9056 - dice_loss: 0.0306 - val_loss: 0.0122 - val_acc: 0.9973 - val_jaccard: 0.8876 - val_dice_loss: 0.0427\n",
      "Epoch 8/30\n",
      "111200/111200 [==============================] - 14s 130us/step - loss: 0.0059 - acc: 0.9980 - jaccard: 0.9060 - dice_loss: 0.0304 - val_loss: 0.0123 - val_acc: 0.9973 - val_jaccard: 0.8877 - val_dice_loss: 0.0427\n",
      "Epoch 9/30\n",
      "111200/111200 [==============================] - 14s 127us/step - loss: 0.0059 - acc: 0.9980 - jaccard: 0.9061 - dice_loss: 0.0304 - val_loss: 0.0122 - val_acc: 0.9973 - val_jaccard: 0.8878 - val_dice_loss: 0.0427\n",
      "Epoch 10/30\n",
      "111200/111200 [==============================] - 14s 124us/step - loss: 0.0059 - acc: 0.9980 - jaccard: 0.9062 - dice_loss: 0.0303 - val_loss: 0.0123 - val_acc: 0.9973 - val_jaccard: 0.8877 - val_dice_loss: 0.0427\n",
      "Epoch 11/30\n",
      "111200/111200 [==============================] - 14s 124us/step - loss: 0.0059 - acc: 0.9980 - jaccard: 0.9062 - dice_loss: 0.0303 - val_loss: 0.0122 - val_acc: 0.9973 - val_jaccard: 0.8878 - val_dice_loss: 0.0427\n",
      "Epoch 12/30\n",
      "111200/111200 [==============================] - 14s 124us/step - loss: 0.0059 - acc: 0.9980 - jaccard: 0.9062 - dice_loss: 0.0303 - val_loss: 0.0123 - val_acc: 0.9973 - val_jaccard: 0.8878 - val_dice_loss: 0.0427\n",
      "Epoch 13/30\n",
      "111200/111200 [==============================] - 14s 123us/step - loss: 0.0059 - acc: 0.9980 - jaccard: 0.9062 - dice_loss: 0.0303 - val_loss: 0.0123 - val_acc: 0.9973 - val_jaccard: 0.8878 - val_dice_loss: 0.0427\n",
      "Epoch 14/30\n",
      "111200/111200 [==============================] - 14s 123us/step - loss: 0.0059 - acc: 0.9980 - jaccard: 0.9063 - dice_loss: 0.0303 - val_loss: 0.0123 - val_acc: 0.9973 - val_jaccard: 0.8878 - val_dice_loss: 0.0427\n",
      "Epoch 15/30\n",
      "111200/111200 [==============================] - 14s 124us/step - loss: 0.0059 - acc: 0.9980 - jaccard: 0.9063 - dice_loss: 0.0303 - val_loss: 0.0123 - val_acc: 0.9973 - val_jaccard: 0.8878 - val_dice_loss: 0.0427\n",
      "Epoch 16/30\n",
      "111200/111200 [==============================] - 14s 122us/step - loss: 0.0059 - acc: 0.9980 - jaccard: 0.9063 - dice_loss: 0.0303 - val_loss: 0.0123 - val_acc: 0.9973 - val_jaccard: 0.8878 - val_dice_loss: 0.0427\n",
      "Epoch 17/30\n",
      "111200/111200 [==============================] - 13s 116us/step - loss: 0.0059 - acc: 0.9980 - jaccard: 0.9063 - dice_loss: 0.0303 - val_loss: 0.0123 - val_acc: 0.9973 - val_jaccard: 0.8878 - val_dice_loss: 0.0427\n",
      "Epoch 18/30\n",
      "111200/111200 [==============================] - 13s 117us/step - loss: 0.0059 - acc: 0.9980 - jaccard: 0.9063 - dice_loss: 0.0303 - val_loss: 0.0123 - val_acc: 0.9973 - val_jaccard: 0.8878 - val_dice_loss: 0.0427\n",
      "Epoch 19/30\n",
      "111200/111200 [==============================] - 13s 118us/step - loss: 0.0059 - acc: 0.9980 - jaccard: 0.9063 - dice_loss: 0.0303 - val_loss: 0.0123 - val_acc: 0.9973 - val_jaccard: 0.8878 - val_dice_loss: 0.0427\n",
      "Epoch 20/30\n",
      "111200/111200 [==============================] - 13s 117us/step - loss: 0.0059 - acc: 0.9980 - jaccard: 0.9063 - dice_loss: 0.0303 - val_loss: 0.0123 - val_acc: 0.9973 - val_jaccard: 0.8878 - val_dice_loss: 0.0427\n",
      "Epoch 21/30\n",
      "111200/111200 [==============================] - 13s 119us/step - loss: 0.0059 - acc: 0.9980 - jaccard: 0.9063 - dice_loss: 0.0303 - val_loss: 0.0123 - val_acc: 0.9973 - val_jaccard: 0.8878 - val_dice_loss: 0.0427\n"
     ]
    },
    {
     "data": {
      "text/plain": [
       "('data/utrain.hdf5', 'logs/utrain')"
      ]
     },
     "execution_count": 12,
     "metadata": {},
     "output_type": "execute_result"
    }
   ],
   "source": [
    "bcn.aeTrain(utrainoh,'utrain',vb=1,esp=20)"
   ]
  },
  {
   "cell_type": "code",
   "execution_count": 13,
   "metadata": {},
   "outputs": [
    {
     "data": {
      "image/png": "[encoded data removed]",
      "text/plain": [
       "<Figure size 432x288 with 1 Axes>"
      ]
     },
     "metadata": {},
     "output_type": "display_data"
    }
   ],
   "source": [
    "tbHistoryPlot('logs/utrain')"
   ]
  },
  {
   "cell_type": "code",
   "execution_count": 14,
   "metadata": {},
   "outputs": [
    {
     "name": "stdout",
     "output_type": "stream",
     "text": [
      "Perfect: 12.65 Good: 26.30 Match: 94.02\n",
      "Perfect: 13.75 Good: 26.30 Match: 91.54\n",
      "Perfect: 15.08 Good: 29.56 Match: 88.60\n",
      "Perfect: 22.75 Good: 29.90 Match: 91.46\n"
     ]
    }
   ],
   "source": [
    "for dta in [zoh, ch23oh, dmoh, unpdoh]:\n",
    "    xp = bcn.aen.predict(dta)\n",
    "    _   = sm.getScore(dta,xp)"
   ]
  },
  {
   "cell_type": "markdown",
   "metadata": {},
   "source": [
    "### Merge 139k subset of original training set (5M ZincDB) with new data from UNPD. \n",
    "- assume that this will reduce degredation of Zinc test set performance and enhance that of the UNPD test set."
   ]
  },
  {
   "cell_type": "code",
   "execution_count": 15,
   "metadata": {},
   "outputs": [],
   "source": [
    "bcn.loadw('data/test5MCNNv3Co1.hdf5') #reset weights"
   ]
  },
  {
   "cell_type": "code",
   "execution_count": 16,
   "metadata": {},
   "outputs": [
    {
     "data": {
      "text/html": [
       "<div>\n",
       "<style scoped>\n",
       "    .dataframe tbody tr th:only-of-type {\n",
       "        vertical-align: middle;\n",
       "    }\n",
       "\n",
       "    .dataframe tbody tr th {\n",
       "        vertical-align: top;\n",
       "    }\n",
       "\n",
       "    .dataframe thead th {\n",
       "        text-align: right;\n",
       "    }\n",
       "</style>\n",
       "<table border=\"1\" class=\"dataframe\">\n",
       "  <thead>\n",
       "    <tr style=\"text-align: right;\">\n",
       "      <th></th>\n",
       "      <th>Molecule</th>\n",
       "    </tr>\n",
       "  </thead>\n",
       "  <tbody>\n",
       "    <tr>\n",
       "      <th>0</th>\n",
       "      <td>COc1cc2C3C4N(CCC4=CC(O)C3OC(C)=O)Cc2cc1O</td>\n",
       "    </tr>\n",
       "    <tr>\n",
       "      <th>1</th>\n",
       "      <td>CC=C(C)C(=O)OC1C2C3C4N(C)CC5(C)C(O)C(O)CC44C(C...</td>\n",
       "    </tr>\n",
       "    <tr>\n",
       "      <th>2</th>\n",
       "      <td>COc1cc(O)c(C)c2CCc3c(OC)c(O)ccc3-c12</td>\n",
       "    </tr>\n",
       "    <tr>\n",
       "      <th>3</th>\n",
       "      <td>Cn1ccnc1SCC(=O)Nc1ccc2OCOc2c1</td>\n",
       "    </tr>\n",
       "    <tr>\n",
       "      <th>4</th>\n",
       "      <td>CC(=O)OC(C)(C)C=CCC(C)=CC(O)CC(C)(O)C=C</td>\n",
       "    </tr>\n",
       "  </tbody>\n",
       "</table>\n",
       "</div>"
      ],
      "text/plain": [
       "                                            Molecule\n",
       "0           COc1cc2C3C4N(CCC4=CC(O)C3OC(C)=O)Cc2cc1O\n",
       "1  CC=C(C)C(=O)OC1C2C3C4N(C)CC5(C)C(O)C(O)CC44C(C...\n",
       "2               COc1cc(O)c(C)c2CCc3c(OC)c(O)ccc3-c12\n",
       "3                      Cn1ccnc1SCC(=O)Nc1ccc2OCOc2c1\n",
       "4            CC(=O)OC(C)(C)C=CCC(C)=CC(O)CC(C)(O)C=C"
      ]
     },
     "execution_count": 16,
     "metadata": {},
     "output_type": "execute_result"
    }
   ],
   "source": [
    "dat = pd.read_csv('data/UNPD_139k.csv',sep='\\t')\n",
    "dat.drop('Name',axis=1,inplace=True)\n",
    "datz = pd.read_pickle('data/6MSmiles.pkl')\n",
    "datz = datz[0:139000]\n",
    "dat = pd.concat([dat,datz],ignore_index=True)\n",
    "dat = dat.sample(frac=1).reset_index(drop=True) #shuffle rows\n",
    "dat.head()"
   ]
  },
  {
   "cell_type": "code",
   "execution_count": 17,
   "metadata": {},
   "outputs": [],
   "source": [
    "utrainoh = sm.smi2OH(dat)"
   ]
  },
  {
   "cell_type": "code",
   "execution_count": 18,
   "metadata": {},
   "outputs": [
    {
     "name": "stdout",
     "output_type": "stream",
     "text": [
      "Train on 222400 samples, validate on 55600 samples\n",
      "Epoch 1/30\n",
      "222400/222400 [==============================] - 30s 133us/step - loss: 0.0093 - acc: 0.9977 - jaccard: 0.9219 - dice_loss: 0.0357 - val_loss: 0.0088 - val_acc: 0.9978 - val_jaccard: 0.9236 - val_dice_loss: 0.0344\n",
      "Epoch 2/30\n",
      "222400/222400 [==============================] - 29s 128us/step - loss: 0.0087 - acc: 0.9978 - jaccard: 0.9232 - dice_loss: 0.0344 - val_loss: 0.0084 - val_acc: 0.9979 - val_jaccard: 0.9245 - val_dice_loss: 0.0335\n",
      "Epoch 3/30\n",
      "222400/222400 [==============================] - 28s 124us/step - loss: 0.0084 - acc: 0.9979 - jaccard: 0.9239 - dice_loss: 0.0337 - val_loss: 0.0081 - val_acc: 0.9979 - val_jaccard: 0.9251 - val_dice_loss: 0.0330\n",
      "Epoch 4/30\n",
      "222400/222400 [==============================] - 28s 126us/step - loss: 0.0081 - acc: 0.9979 - jaccard: 0.9244 - dice_loss: 0.0332 - val_loss: 0.0079 - val_acc: 0.9979 - val_jaccard: 0.9256 - val_dice_loss: 0.0325\n",
      "Epoch 5/30\n",
      "222400/222400 [==============================] - 28s 127us/step - loss: 0.0079 - acc: 0.9979 - jaccard: 0.9249 - dice_loss: 0.0327 - val_loss: 0.0077 - val_acc: 0.9980 - val_jaccard: 0.9259 - val_dice_loss: 0.0321\n",
      "Epoch 6/30\n",
      "222400/222400 [==============================] - 28s 126us/step - loss: 0.0078 - acc: 0.9979 - jaccard: 0.9252 - dice_loss: 0.0324 - val_loss: 0.0076 - val_acc: 0.9980 - val_jaccard: 0.9262 - val_dice_loss: 0.0317\n",
      "Epoch 7/30\n",
      "222400/222400 [==============================] - 28s 128us/step - loss: 0.0076 - acc: 0.9980 - jaccard: 0.9255 - dice_loss: 0.0320 - val_loss: 0.0075 - val_acc: 0.9980 - val_jaccard: 0.9265 - val_dice_loss: 0.0314\n",
      "Epoch 8/30\n",
      "222400/222400 [==============================] - 28s 127us/step - loss: 0.0075 - acc: 0.9980 - jaccard: 0.9257 - dice_loss: 0.0317 - val_loss: 0.0073 - val_acc: 0.9980 - val_jaccard: 0.9267 - val_dice_loss: 0.0312\n",
      "Epoch 9/30\n",
      "222400/222400 [==============================] - 28s 128us/step - loss: 0.0074 - acc: 0.9980 - jaccard: 0.9259 - dice_loss: 0.0315 - val_loss: 0.0072 - val_acc: 0.9980 - val_jaccard: 0.9268 - val_dice_loss: 0.0309\n",
      "Epoch 10/30\n",
      "222400/222400 [==============================] - 28s 125us/step - loss: 0.0073 - acc: 0.9980 - jaccard: 0.9261 - dice_loss: 0.0312 - val_loss: 0.0071 - val_acc: 0.9980 - val_jaccard: 0.9270 - val_dice_loss: 0.0307\n",
      "Epoch 11/30\n",
      "222400/222400 [==============================] - 28s 126us/step - loss: 0.0072 - acc: 0.9980 - jaccard: 0.9263 - dice_loss: 0.0310 - val_loss: 0.0070 - val_acc: 0.9981 - val_jaccard: 0.9272 - val_dice_loss: 0.0304\n",
      "Epoch 12/30\n",
      "222400/222400 [==============================] - 28s 125us/step - loss: 0.0071 - acc: 0.9980 - jaccard: 0.9264 - dice_loss: 0.0308 - val_loss: 0.0070 - val_acc: 0.9981 - val_jaccard: 0.9273 - val_dice_loss: 0.0303\n",
      "Epoch 13/30\n",
      "222400/222400 [==============================] - 27s 123us/step - loss: 0.0070 - acc: 0.9980 - jaccard: 0.9266 - dice_loss: 0.0306 - val_loss: 0.0069 - val_acc: 0.9981 - val_jaccard: 0.9274 - val_dice_loss: 0.0301\n",
      "Epoch 14/30\n",
      "222400/222400 [==============================] - 27s 121us/step - loss: 0.0069 - acc: 0.9981 - jaccard: 0.9267 - dice_loss: 0.0304 - val_loss: 0.0068 - val_acc: 0.9981 - val_jaccard: 0.9276 - val_dice_loss: 0.0299\n",
      "Epoch 15/30\n",
      "222400/222400 [==============================] - 27s 121us/step - loss: 0.0068 - acc: 0.9981 - jaccard: 0.9268 - dice_loss: 0.0302 - val_loss: 0.0067 - val_acc: 0.9981 - val_jaccard: 0.9276 - val_dice_loss: 0.0297\n",
      "Epoch 16/30\n",
      "222400/222400 [==============================] - 28s 125us/step - loss: 0.0068 - acc: 0.9981 - jaccard: 0.9269 - dice_loss: 0.0300 - val_loss: 0.0067 - val_acc: 0.9981 - val_jaccard: 0.9278 - val_dice_loss: 0.0295\n",
      "Epoch 17/30\n",
      "222400/222400 [==============================] - 27s 123us/step - loss: 0.0067 - acc: 0.9981 - jaccard: 0.9271 - dice_loss: 0.0298 - val_loss: 0.0066 - val_acc: 0.9981 - val_jaccard: 0.9279 - val_dice_loss: 0.0294\n",
      "Epoch 18/30\n",
      "222400/222400 [==============================] - 28s 126us/step - loss: 0.0067 - acc: 0.9981 - jaccard: 0.9272 - dice_loss: 0.0297 - val_loss: 0.0066 - val_acc: 0.9981 - val_jaccard: 0.9280 - val_dice_loss: 0.0292\n",
      "Epoch 19/30\n",
      "222400/222400 [==============================] - 27s 122us/step - loss: 0.0066 - acc: 0.9981 - jaccard: 0.9273 - dice_loss: 0.0295 - val_loss: 0.0065 - val_acc: 0.9981 - val_jaccard: 0.9281 - val_dice_loss: 0.0291\n",
      "Epoch 20/30\n",
      "222400/222400 [==============================] - 27s 123us/step - loss: 0.0065 - acc: 0.9981 - jaccard: 0.9274 - dice_loss: 0.0294 - val_loss: 0.0065 - val_acc: 0.9981 - val_jaccard: 0.9282 - val_dice_loss: 0.0290\n",
      "Epoch 21/30\n",
      "222400/222400 [==============================] - 27s 122us/step - loss: 0.0065 - acc: 0.9981 - jaccard: 0.9275 - dice_loss: 0.0292 - val_loss: 0.0064 - val_acc: 0.9981 - val_jaccard: 0.9283 - val_dice_loss: 0.0288\n",
      "Epoch 22/30\n",
      "222400/222400 [==============================] - 28s 124us/step - loss: 0.0064 - acc: 0.9981 - jaccard: 0.9276 - dice_loss: 0.0291 - val_loss: 0.0064 - val_acc: 0.9982 - val_jaccard: 0.9284 - val_dice_loss: 0.0287\n",
      "Epoch 23/30\n",
      "222400/222400 [==============================] - 27s 123us/step - loss: 0.0064 - acc: 0.9981 - jaccard: 0.9278 - dice_loss: 0.0289 - val_loss: 0.0063 - val_acc: 0.9982 - val_jaccard: 0.9285 - val_dice_loss: 0.0286\n",
      "Epoch 24/30\n",
      "222400/222400 [==============================] - 27s 121us/step - loss: 0.0063 - acc: 0.9981 - jaccard: 0.9278 - dice_loss: 0.0288 - val_loss: 0.0063 - val_acc: 0.9982 - val_jaccard: 0.9286 - val_dice_loss: 0.0284\n",
      "Epoch 25/30\n",
      "222400/222400 [==============================] - 27s 122us/step - loss: 0.0063 - acc: 0.9982 - jaccard: 0.9280 - dice_loss: 0.0287 - val_loss: 0.0062 - val_acc: 0.9982 - val_jaccard: 0.9287 - val_dice_loss: 0.0283\n",
      "Epoch 26/30\n",
      "222400/222400 [==============================] - 27s 121us/step - loss: 0.0063 - acc: 0.9982 - jaccard: 0.9281 - dice_loss: 0.0286 - val_loss: 0.0062 - val_acc: 0.9982 - val_jaccard: 0.9288 - val_dice_loss: 0.0282\n",
      "Epoch 27/30\n",
      "222400/222400 [==============================] - 27s 122us/step - loss: 0.0062 - acc: 0.9982 - jaccard: 0.9282 - dice_loss: 0.0284 - val_loss: 0.0061 - val_acc: 0.9982 - val_jaccard: 0.9290 - val_dice_loss: 0.0281\n",
      "Epoch 28/30\n",
      "222400/222400 [==============================] - 27s 121us/step - loss: 0.0062 - acc: 0.9982 - jaccard: 0.9283 - dice_loss: 0.0283 - val_loss: 0.0061 - val_acc: 0.9982 - val_jaccard: 0.9291 - val_dice_loss: 0.0279\n",
      "Epoch 29/30\n",
      "222400/222400 [==============================] - 27s 120us/step - loss: 0.0061 - acc: 0.9982 - jaccard: 0.9284 - dice_loss: 0.0282 - val_loss: 0.0061 - val_acc: 0.9982 - val_jaccard: 0.9291 - val_dice_loss: 0.0278\n",
      "Epoch 30/30\n",
      "222400/222400 [==============================] - 27s 121us/step - loss: 0.0061 - acc: 0.9982 - jaccard: 0.9285 - dice_loss: 0.0281 - val_loss: 0.0060 - val_acc: 0.9982 - val_jaccard: 0.9292 - val_dice_loss: 0.0277\n"
     ]
    },
    {
     "data": {
      "text/plain": [
       "('data/utrain2.hdf5', 'logs/utrain2')"
      ]
     },
     "execution_count": 18,
     "metadata": {},
     "output_type": "execute_result"
    }
   ],
   "source": [
    "bcn.aeTrain(utrainoh,'utrain2',vb=1,esp=20)"
   ]
  },
  {
   "cell_type": "markdown",
   "metadata": {},
   "source": [
    "**Unfortunately, only marginal improvement after training with merged training set.**"
   ]
  },
  {
   "cell_type": "code",
   "execution_count": 19,
   "metadata": {},
   "outputs": [
    {
     "name": "stdout",
     "output_type": "stream",
     "text": [
      "Perfect: 67.15 Good: 72.25 Match: 98.68\n",
      "Perfect: 34.40 Good: 46.40 Match: 93.89\n",
      "Perfect: 29.01 Good: 42.03 Match: 91.02\n",
      "Perfect: 12.75 Good: 20.05 Match: 88.30\n"
     ]
    }
   ],
   "source": [
    "for dta in [zoh, ch23oh, dmoh, unpdoh]:\n",
    "    xp = bcn.aen.predict(dta)\n",
    "    _   = sm.getScore(dta,xp)"
   ]
  },
  {
   "cell_type": "code",
   "execution_count": 20,
   "metadata": {},
   "outputs": [
    {
     "data": {
      "image/png": "[encoded data removed]",
      "text/plain": [
       "<Figure size 432x288 with 1 Axes>"
      ]
     },
     "metadata": {},
     "output_type": "display_data"
    }
   ],
   "source": [
    "tbHistoryPlot('logs/utrain2')"
   ]
  },
  {
   "cell_type": "code",
   "execution_count": null,
   "metadata": {},
   "outputs": [],
   "source": []
  }
 ],
 "metadata": {
  "kernelspec": {
   "display_name": "Python 3",
   "language": "python",
   "name": "python3"
  },
  "language_info": {
   "codemirror_mode": {
    "name": "ipython",
    "version": 3
   },
   "file_extension": ".py",
   "mimetype": "text/x-python",
   "name": "python",
   "nbconvert_exporter": "python",
   "pygments_lexer": "ipython3",
   "version": "3.6.7"
  }
 },
 "nbformat": 4,
 "nbformat_minor": 2
}
